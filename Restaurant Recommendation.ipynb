{
 "cells": [
  {
   "cell_type": "markdown",
   "metadata": {},
   "source": [
    "# Restaurant Recommendation\n",
    "The main purpose of this notebook is to recommend 2-3 restaurants which are very similar to the restaurant which we choose as a paramater.\n",
    "# Data\n",
    "Here is the link to the data: https://www.kaggle.com/himanshupoddar/zomato-bangalore-restaurants The raw data is entirely for educational purposes only. Note that I don’t claim any copyright for the data. All copyrights for the data is owned by Zomato Media Pvt. Ltd..\n",
    "# Features\n",
    "Features included in the raw dataset are: 'url', 'address', 'name', 'online_order', 'book_table', 'rate', 'votes','phone', 'location', 'rest_type', 'dish_liked', 'cuisines','approx_cost(for two people)'\n",
    "However, for developing a recommendation system, we have droped certain features and used feauture engineering to develop certain new features.\n",
    "# Data Pre-Processing\n",
    "\n",
    "# What is happening at the backend?\n",
    "\n",
    "# Other applications of Recommendation systems\n",
    "Youtube is a good example where you can realise the recommendation system. Suppose you are a watched 'Tourism' video and it shows videos of \"How to make a cake\" in the recommended videos, does it make any sense? Will you click on it? Chances are less. The recommendation systems play a very big role in generating revenue for business by suggesting products or services which a customer is more likely to purchase, based on the analysis of the products and services which he has already chosen."
   ]
  },
  {
   "cell_type": "markdown",
   "metadata": {},
   "source": [
    "# Importing the data, pandas and numpy modules"
   ]
  },
  {
   "cell_type": "code",
   "execution_count": 189,
   "metadata": {},
   "outputs": [
    {
     "data": {
      "text/html": [
       "<div>\n",
       "<style scoped>\n",
       "    .dataframe tbody tr th:only-of-type {\n",
       "        vertical-align: middle;\n",
       "    }\n",
       "\n",
       "    .dataframe tbody tr th {\n",
       "        vertical-align: top;\n",
       "    }\n",
       "\n",
       "    .dataframe thead th {\n",
       "        text-align: right;\n",
       "    }\n",
       "</style>\n",
       "<table border=\"1\" class=\"dataframe\">\n",
       "  <thead>\n",
       "    <tr style=\"text-align: right;\">\n",
       "      <th></th>\n",
       "      <th>url</th>\n",
       "      <th>address</th>\n",
       "      <th>name</th>\n",
       "      <th>online_order</th>\n",
       "      <th>book_table</th>\n",
       "      <th>rate</th>\n",
       "      <th>votes</th>\n",
       "      <th>phone</th>\n",
       "      <th>location</th>\n",
       "      <th>rest_type</th>\n",
       "      <th>dish_liked</th>\n",
       "      <th>cuisines</th>\n",
       "      <th>approx_cost(for two people)</th>\n",
       "      <th>reviews_list</th>\n",
       "      <th>menu_item</th>\n",
       "      <th>listed_in(type)</th>\n",
       "      <th>listed_in(city)</th>\n",
       "    </tr>\n",
       "  </thead>\n",
       "  <tbody>\n",
       "    <tr>\n",
       "      <th>0</th>\n",
       "      <td>https://www.zomato.com/bangalore/jalsa-banasha...</td>\n",
       "      <td>942, 21st Main Road, 2nd Stage, Banashankari, ...</td>\n",
       "      <td>Jalsa</td>\n",
       "      <td>Yes</td>\n",
       "      <td>Yes</td>\n",
       "      <td>4.1/5</td>\n",
       "      <td>775</td>\n",
       "      <td>080 42297555\\r\\n+91 9743772233</td>\n",
       "      <td>Banashankari</td>\n",
       "      <td>Casual Dining</td>\n",
       "      <td>Pasta, Lunch Buffet, Masala Papad, Paneer Laja...</td>\n",
       "      <td>North Indian, Mughlai, Chinese</td>\n",
       "      <td>800</td>\n",
       "      <td>[('Rated 4.0', 'RATED\\n  A beautiful place to ...</td>\n",
       "      <td>[]</td>\n",
       "      <td>Buffet</td>\n",
       "      <td>Banashankari</td>\n",
       "    </tr>\n",
       "    <tr>\n",
       "      <th>1</th>\n",
       "      <td>https://www.zomato.com/bangalore/spice-elephan...</td>\n",
       "      <td>2nd Floor, 80 Feet Road, Near Big Bazaar, 6th ...</td>\n",
       "      <td>Spice Elephant</td>\n",
       "      <td>Yes</td>\n",
       "      <td>No</td>\n",
       "      <td>4.1/5</td>\n",
       "      <td>787</td>\n",
       "      <td>080 41714161</td>\n",
       "      <td>Banashankari</td>\n",
       "      <td>Casual Dining</td>\n",
       "      <td>Momos, Lunch Buffet, Chocolate Nirvana, Thai G...</td>\n",
       "      <td>Chinese, North Indian, Thai</td>\n",
       "      <td>800</td>\n",
       "      <td>[('Rated 4.0', 'RATED\\n  Had been here for din...</td>\n",
       "      <td>[]</td>\n",
       "      <td>Buffet</td>\n",
       "      <td>Banashankari</td>\n",
       "    </tr>\n",
       "    <tr>\n",
       "      <th>2</th>\n",
       "      <td>https://www.zomato.com/SanchurroBangalore?cont...</td>\n",
       "      <td>1112, Next to KIMS Medical College, 17th Cross...</td>\n",
       "      <td>San Churro Cafe</td>\n",
       "      <td>Yes</td>\n",
       "      <td>No</td>\n",
       "      <td>3.8/5</td>\n",
       "      <td>918</td>\n",
       "      <td>+91 9663487993</td>\n",
       "      <td>Banashankari</td>\n",
       "      <td>Cafe, Casual Dining</td>\n",
       "      <td>Churros, Cannelloni, Minestrone Soup, Hot Choc...</td>\n",
       "      <td>Cafe, Mexican, Italian</td>\n",
       "      <td>800</td>\n",
       "      <td>[('Rated 3.0', \"RATED\\n  Ambience is not that ...</td>\n",
       "      <td>[]</td>\n",
       "      <td>Buffet</td>\n",
       "      <td>Banashankari</td>\n",
       "    </tr>\n",
       "  </tbody>\n",
       "</table>\n",
       "</div>"
      ],
      "text/plain": [
       "                                                 url  \\\n",
       "0  https://www.zomato.com/bangalore/jalsa-banasha...   \n",
       "1  https://www.zomato.com/bangalore/spice-elephan...   \n",
       "2  https://www.zomato.com/SanchurroBangalore?cont...   \n",
       "\n",
       "                                             address             name  \\\n",
       "0  942, 21st Main Road, 2nd Stage, Banashankari, ...            Jalsa   \n",
       "1  2nd Floor, 80 Feet Road, Near Big Bazaar, 6th ...   Spice Elephant   \n",
       "2  1112, Next to KIMS Medical College, 17th Cross...  San Churro Cafe   \n",
       "\n",
       "  online_order book_table   rate  votes                           phone  \\\n",
       "0          Yes        Yes  4.1/5    775  080 42297555\\r\\n+91 9743772233   \n",
       "1          Yes         No  4.1/5    787                    080 41714161   \n",
       "2          Yes         No  3.8/5    918                  +91 9663487993   \n",
       "\n",
       "       location            rest_type  \\\n",
       "0  Banashankari        Casual Dining   \n",
       "1  Banashankari        Casual Dining   \n",
       "2  Banashankari  Cafe, Casual Dining   \n",
       "\n",
       "                                          dish_liked  \\\n",
       "0  Pasta, Lunch Buffet, Masala Papad, Paneer Laja...   \n",
       "1  Momos, Lunch Buffet, Chocolate Nirvana, Thai G...   \n",
       "2  Churros, Cannelloni, Minestrone Soup, Hot Choc...   \n",
       "\n",
       "                         cuisines approx_cost(for two people)  \\\n",
       "0  North Indian, Mughlai, Chinese                         800   \n",
       "1     Chinese, North Indian, Thai                         800   \n",
       "2          Cafe, Mexican, Italian                         800   \n",
       "\n",
       "                                        reviews_list menu_item  \\\n",
       "0  [('Rated 4.0', 'RATED\\n  A beautiful place to ...        []   \n",
       "1  [('Rated 4.0', 'RATED\\n  Had been here for din...        []   \n",
       "2  [('Rated 3.0', \"RATED\\n  Ambience is not that ...        []   \n",
       "\n",
       "  listed_in(type) listed_in(city)  \n",
       "0          Buffet    Banashankari  \n",
       "1          Buffet    Banashankari  \n",
       "2          Buffet    Banashankari  "
      ]
     },
     "execution_count": 189,
     "metadata": {},
     "output_type": "execute_result"
    }
   ],
   "source": [
    "import numpy as np\n",
    "import pandas as pd\n",
    "dataframe= pd.read_csv(\"zomato.csv\")\n",
    "dataframe.head(3)"
   ]
  },
  {
   "cell_type": "markdown",
   "metadata": {},
   "source": [
    "# Trimming the data\n",
    "We will drop the features which are not required for a recommendation system."
   ]
  },
  {
   "cell_type": "code",
   "execution_count": 190,
   "metadata": {},
   "outputs": [],
   "source": [
    "drop_cols = ['url','address','phone','book_table','location','dish_liked','reviews_list','listed_in(type)','menu_item','listed_in(city)','rest_type']\n",
    "dataframe.drop(drop_cols, axis=1, inplace = True)"
   ]
  },
  {
   "cell_type": "code",
   "execution_count": 191,
   "metadata": {},
   "outputs": [
    {
     "data": {
      "text/html": [
       "<div>\n",
       "<style scoped>\n",
       "    .dataframe tbody tr th:only-of-type {\n",
       "        vertical-align: middle;\n",
       "    }\n",
       "\n",
       "    .dataframe tbody tr th {\n",
       "        vertical-align: top;\n",
       "    }\n",
       "\n",
       "    .dataframe thead th {\n",
       "        text-align: right;\n",
       "    }\n",
       "</style>\n",
       "<table border=\"1\" class=\"dataframe\">\n",
       "  <thead>\n",
       "    <tr style=\"text-align: right;\">\n",
       "      <th></th>\n",
       "      <th>name</th>\n",
       "      <th>online_order</th>\n",
       "      <th>rate</th>\n",
       "      <th>votes</th>\n",
       "      <th>cuisines</th>\n",
       "      <th>cost_for_two</th>\n",
       "    </tr>\n",
       "  </thead>\n",
       "  <tbody>\n",
       "    <tr>\n",
       "      <th>0</th>\n",
       "      <td>Jalsa</td>\n",
       "      <td>Yes</td>\n",
       "      <td>4.1/5</td>\n",
       "      <td>775</td>\n",
       "      <td>North Indian, Mughlai, Chinese</td>\n",
       "      <td>800</td>\n",
       "    </tr>\n",
       "    <tr>\n",
       "      <th>1</th>\n",
       "      <td>Spice Elephant</td>\n",
       "      <td>Yes</td>\n",
       "      <td>4.1/5</td>\n",
       "      <td>787</td>\n",
       "      <td>Chinese, North Indian, Thai</td>\n",
       "      <td>800</td>\n",
       "    </tr>\n",
       "    <tr>\n",
       "      <th>2</th>\n",
       "      <td>San Churro Cafe</td>\n",
       "      <td>Yes</td>\n",
       "      <td>3.8/5</td>\n",
       "      <td>918</td>\n",
       "      <td>Cafe, Mexican, Italian</td>\n",
       "      <td>800</td>\n",
       "    </tr>\n",
       "    <tr>\n",
       "      <th>3</th>\n",
       "      <td>Addhuri Udupi Bhojana</td>\n",
       "      <td>No</td>\n",
       "      <td>3.7/5</td>\n",
       "      <td>88</td>\n",
       "      <td>South Indian, North Indian</td>\n",
       "      <td>300</td>\n",
       "    </tr>\n",
       "    <tr>\n",
       "      <th>4</th>\n",
       "      <td>Grand Village</td>\n",
       "      <td>No</td>\n",
       "      <td>3.8/5</td>\n",
       "      <td>166</td>\n",
       "      <td>North Indian, Rajasthani</td>\n",
       "      <td>600</td>\n",
       "    </tr>\n",
       "  </tbody>\n",
       "</table>\n",
       "</div>"
      ],
      "text/plain": [
       "                    name online_order   rate  votes  \\\n",
       "0                  Jalsa          Yes  4.1/5    775   \n",
       "1         Spice Elephant          Yes  4.1/5    787   \n",
       "2        San Churro Cafe          Yes  3.8/5    918   \n",
       "3  Addhuri Udupi Bhojana           No  3.7/5     88   \n",
       "4          Grand Village           No  3.8/5    166   \n",
       "\n",
       "                         cuisines cost_for_two  \n",
       "0  North Indian, Mughlai, Chinese          800  \n",
       "1     Chinese, North Indian, Thai          800  \n",
       "2          Cafe, Mexican, Italian          800  \n",
       "3      South Indian, North Indian          300  \n",
       "4        North Indian, Rajasthani          600  "
      ]
     },
     "execution_count": 191,
     "metadata": {},
     "output_type": "execute_result"
    }
   ],
   "source": [
    "dataframe.rename({'approx_cost(for two people)':'cost_for_two'},axis = 1, inplace = True)\n",
    "dataframe.head()"
   ]
  },
  {
   "cell_type": "code",
   "execution_count": 192,
   "metadata": {},
   "outputs": [
    {
     "data": {
      "text/plain": [
       "(51717, 6)"
      ]
     },
     "execution_count": 192,
     "metadata": {},
     "output_type": "execute_result"
    }
   ],
   "source": [
    "dataframe.shape"
   ]
  },
  {
   "cell_type": "code",
   "execution_count": 193,
   "metadata": {},
   "outputs": [
    {
     "data": {
      "text/plain": [
       "(22630, 6)"
      ]
     },
     "execution_count": 193,
     "metadata": {},
     "output_type": "execute_result"
    }
   ],
   "source": [
    "dataframe=dataframe.drop_duplicates()\n",
    "dataframe.shape"
   ]
  },
  {
   "cell_type": "markdown",
   "metadata": {},
   "source": [
    "# Cleaning the 'rate' data"
   ]
  },
  {
   "cell_type": "code",
   "execution_count": 194,
   "metadata": {},
   "outputs": [
    {
     "data": {
      "text/html": [
       "<div>\n",
       "<style scoped>\n",
       "    .dataframe tbody tr th:only-of-type {\n",
       "        vertical-align: middle;\n",
       "    }\n",
       "\n",
       "    .dataframe tbody tr th {\n",
       "        vertical-align: top;\n",
       "    }\n",
       "\n",
       "    .dataframe thead th {\n",
       "        text-align: right;\n",
       "    }\n",
       "</style>\n",
       "<table border=\"1\" class=\"dataframe\">\n",
       "  <thead>\n",
       "    <tr style=\"text-align: right;\">\n",
       "      <th></th>\n",
       "      <th>name</th>\n",
       "      <th>online_order</th>\n",
       "      <th>rate</th>\n",
       "      <th>votes</th>\n",
       "      <th>cuisines</th>\n",
       "      <th>cost_for_two</th>\n",
       "    </tr>\n",
       "  </thead>\n",
       "  <tbody>\n",
       "    <tr>\n",
       "      <th>0</th>\n",
       "      <td>Jalsa</td>\n",
       "      <td>Yes</td>\n",
       "      <td>4.1</td>\n",
       "      <td>775</td>\n",
       "      <td>North Indian, Mughlai, Chinese</td>\n",
       "      <td>800</td>\n",
       "    </tr>\n",
       "    <tr>\n",
       "      <th>1</th>\n",
       "      <td>Spice Elephant</td>\n",
       "      <td>Yes</td>\n",
       "      <td>4.1</td>\n",
       "      <td>787</td>\n",
       "      <td>Chinese, North Indian, Thai</td>\n",
       "      <td>800</td>\n",
       "    </tr>\n",
       "    <tr>\n",
       "      <th>2</th>\n",
       "      <td>San Churro Cafe</td>\n",
       "      <td>Yes</td>\n",
       "      <td>3.8</td>\n",
       "      <td>918</td>\n",
       "      <td>Cafe, Mexican, Italian</td>\n",
       "      <td>800</td>\n",
       "    </tr>\n",
       "    <tr>\n",
       "      <th>3</th>\n",
       "      <td>Addhuri Udupi Bhojana</td>\n",
       "      <td>No</td>\n",
       "      <td>3.7</td>\n",
       "      <td>88</td>\n",
       "      <td>South Indian, North Indian</td>\n",
       "      <td>300</td>\n",
       "    </tr>\n",
       "    <tr>\n",
       "      <th>4</th>\n",
       "      <td>Grand Village</td>\n",
       "      <td>No</td>\n",
       "      <td>3.8</td>\n",
       "      <td>166</td>\n",
       "      <td>North Indian, Rajasthani</td>\n",
       "      <td>600</td>\n",
       "    </tr>\n",
       "  </tbody>\n",
       "</table>\n",
       "</div>"
      ],
      "text/plain": [
       "                    name online_order  rate  votes  \\\n",
       "0                  Jalsa          Yes   4.1    775   \n",
       "1         Spice Elephant          Yes   4.1    787   \n",
       "2        San Churro Cafe          Yes   3.8    918   \n",
       "3  Addhuri Udupi Bhojana           No   3.7     88   \n",
       "4          Grand Village           No   3.8    166   \n",
       "\n",
       "                         cuisines cost_for_two  \n",
       "0  North Indian, Mughlai, Chinese          800  \n",
       "1     Chinese, North Indian, Thai          800  \n",
       "2          Cafe, Mexican, Italian          800  \n",
       "3      South Indian, North Indian          300  \n",
       "4        North Indian, Rajasthani          600  "
      ]
     },
     "execution_count": 194,
     "metadata": {},
     "output_type": "execute_result"
    }
   ],
   "source": [
    "dataframe = dataframe.loc[dataframe.rate !='NEW']\n",
    "dataframe = dataframe.loc[dataframe.rate !='-'].reset_index(drop=True)\n",
    "remove_slash = lambda x: x.replace('/5', '') if type(x) == np.str else x\n",
    "dataframe.rate = dataframe.rate.apply(remove_slash).str.strip().astype('float')\n",
    "dataframe.head()"
   ]
  },
  {
   "cell_type": "code",
   "execution_count": 195,
   "metadata": {},
   "outputs": [],
   "source": [
    "dataframe=dataframe.fillna(rec_frame.mean())\n",
    "dataframe['cost_for_two'] = dataframe['cost_for_two'].str.replace(',', '').astype(float)"
   ]
  },
  {
   "cell_type": "code",
   "execution_count": null,
   "metadata": {},
   "outputs": [],
   "source": []
  },
  {
   "cell_type": "code",
   "execution_count": 196,
   "metadata": {},
   "outputs": [
    {
     "data": {
      "text/plain": [
       "name               0\n",
       "online_order       0\n",
       "rate            1927\n",
       "votes              0\n",
       "cuisines          25\n",
       "cost_for_two      38\n",
       "dtype: int64"
      ]
     },
     "execution_count": 196,
     "metadata": {},
     "output_type": "execute_result"
    }
   ],
   "source": [
    "dataframe['rate']=dataframe.groupby('name')['rate'].transform('mean')\n",
    "dataframe['votes']=dataframe.groupby('name')['votes'].transform('mean')\n",
    "dataframe['cost_for_two']=dataframe.groupby('name')['cost_for_two'].transform('mean')\n",
    "dataframe=dataframe.drop_duplicates()\n",
    "dataframe.isna().sum()"
   ]
  },
  {
   "cell_type": "code",
   "execution_count": 197,
   "metadata": {},
   "outputs": [
    {
     "data": {
      "text/plain": [
       "name            0\n",
       "online_order    0\n",
       "rate            0\n",
       "votes           0\n",
       "cuisines        0\n",
       "cost_for_two    0\n",
       "dtype: int64"
      ]
     },
     "execution_count": 197,
     "metadata": {},
     "output_type": "execute_result"
    }
   ],
   "source": [
    "dataframe['cost_for_two'].fillna((dataframe['cost_for_two'].mean()), inplace=True)\n",
    "dataframe=dataframe.dropna()\n",
    "dataframe.isna().sum()"
   ]
  },
  {
   "cell_type": "code",
   "execution_count": 198,
   "metadata": {},
   "outputs": [
    {
     "data": {
      "text/plain": [
       "(8200, 6)"
      ]
     },
     "execution_count": 198,
     "metadata": {},
     "output_type": "execute_result"
    }
   ],
   "source": [
    "dataframe.shape"
   ]
  },
  {
   "cell_type": "code",
   "execution_count": 199,
   "metadata": {},
   "outputs": [],
   "source": [
    "dataframe['votes']=dataframe.groupby('name')['votes'].transform('mean')"
   ]
  },
  {
   "cell_type": "markdown",
   "metadata": {},
   "source": [
    "# The more popular, the higher it is rated?"
   ]
  },
  {
   "cell_type": "code",
   "execution_count": 200,
   "metadata": {},
   "outputs": [
    {
     "data": {
      "text/plain": [
       "<seaborn.axisgrid.JointGrid at 0x1ace30cc50>"
      ]
     },
     "execution_count": 200,
     "metadata": {},
     "output_type": "execute_result"
    },
    {
     "data": {
      "image/png": "[encoded data removed]",
      "text/plain": [
       "<Figure size 432x432 with 3 Axes>"
      ]
     },
     "metadata": {
      "needs_background": "light"
     },
     "output_type": "display_data"
    }
   ],
   "source": [
    "import seaborn as sns\n",
    "sns.jointplot(x='rate', y='votes', data=dataframe)"
   ]
  },
  {
   "cell_type": "code",
   "execution_count": 201,
   "metadata": {},
   "outputs": [],
   "source": [
    "dataframe['Rating-Vote-Value']= dataframe['cost_for_two']*dataframe['votes']"
   ]
  },
  {
   "cell_type": "code",
   "execution_count": 202,
   "metadata": {},
   "outputs": [
    {
     "data": {
      "text/html": [
       "<div>\n",
       "<style scoped>\n",
       "    .dataframe tbody tr th:only-of-type {\n",
       "        vertical-align: middle;\n",
       "    }\n",
       "\n",
       "    .dataframe tbody tr th {\n",
       "        vertical-align: top;\n",
       "    }\n",
       "\n",
       "    .dataframe thead th {\n",
       "        text-align: right;\n",
       "    }\n",
       "</style>\n",
       "<table border=\"1\" class=\"dataframe\">\n",
       "  <thead>\n",
       "    <tr style=\"text-align: right;\">\n",
       "      <th></th>\n",
       "      <th>name</th>\n",
       "      <th>online_order</th>\n",
       "      <th>rate</th>\n",
       "      <th>votes</th>\n",
       "      <th>cuisines</th>\n",
       "      <th>cost_for_two</th>\n",
       "      <th>Rating-Vote-Value</th>\n",
       "    </tr>\n",
       "  </thead>\n",
       "  <tbody>\n",
       "    <tr>\n",
       "      <th>0</th>\n",
       "      <td>Jalsa</td>\n",
       "      <td>Yes</td>\n",
       "      <td>4.133333</td>\n",
       "      <td>1251.166667</td>\n",
       "      <td>North Indian, Mughlai, Chinese</td>\n",
       "      <td>1033.333333</td>\n",
       "      <td>1292872</td>\n",
       "    </tr>\n",
       "    <tr>\n",
       "      <th>1</th>\n",
       "      <td>Spice Elephant</td>\n",
       "      <td>Yes</td>\n",
       "      <td>4.100000</td>\n",
       "      <td>787.000000</td>\n",
       "      <td>Chinese, North Indian, Thai</td>\n",
       "      <td>800.000000</td>\n",
       "      <td>629600</td>\n",
       "    </tr>\n",
       "    <tr>\n",
       "      <th>2</th>\n",
       "      <td>San Churro Cafe</td>\n",
       "      <td>Yes</td>\n",
       "      <td>3.800000</td>\n",
       "      <td>921.000000</td>\n",
       "      <td>Cafe, Mexican, Italian</td>\n",
       "      <td>800.000000</td>\n",
       "      <td>736800</td>\n",
       "    </tr>\n",
       "    <tr>\n",
       "      <th>3</th>\n",
       "      <td>Addhuri Udupi Bhojana</td>\n",
       "      <td>No</td>\n",
       "      <td>3.700000</td>\n",
       "      <td>88.000000</td>\n",
       "      <td>South Indian, North Indian</td>\n",
       "      <td>300.000000</td>\n",
       "      <td>26400</td>\n",
       "    </tr>\n",
       "    <tr>\n",
       "      <th>4</th>\n",
       "      <td>Grand Village</td>\n",
       "      <td>No</td>\n",
       "      <td>3.800000</td>\n",
       "      <td>166.000000</td>\n",
       "      <td>North Indian, Rajasthani</td>\n",
       "      <td>600.000000</td>\n",
       "      <td>99600</td>\n",
       "    </tr>\n",
       "  </tbody>\n",
       "</table>\n",
       "</div>"
      ],
      "text/plain": [
       "                    name online_order      rate        votes  \\\n",
       "0                  Jalsa          Yes  4.133333  1251.166667   \n",
       "1         Spice Elephant          Yes  4.100000   787.000000   \n",
       "2        San Churro Cafe          Yes  3.800000   921.000000   \n",
       "3  Addhuri Udupi Bhojana           No  3.700000    88.000000   \n",
       "4          Grand Village           No  3.800000   166.000000   \n",
       "\n",
       "                         cuisines  cost_for_two  Rating-Vote-Value  \n",
       "0  North Indian, Mughlai, Chinese   1033.333333            1292872  \n",
       "1     Chinese, North Indian, Thai    800.000000             629600  \n",
       "2          Cafe, Mexican, Italian    800.000000             736800  \n",
       "3      South Indian, North Indian    300.000000              26400  \n",
       "4        North Indian, Rajasthani    600.000000              99600  "
      ]
     },
     "execution_count": 202,
     "metadata": {},
     "output_type": "execute_result"
    }
   ],
   "source": [
    "dataframe['Rating-Vote-Value']=dataframe['Rating-Vote-Value'].astype(int)\n",
    "dataframe.head()"
   ]
  },
  {
   "cell_type": "code",
   "execution_count": 203,
   "metadata": {},
   "outputs": [
    {
     "data": {
      "text/plain": [
       "<seaborn.axisgrid.JointGrid at 0x1b0ab8cef0>"
      ]
     },
     "execution_count": 203,
     "metadata": {},
     "output_type": "execute_result"
    },
    {
     "data": {
      "image/png": "[encoded data removed]",
      "text/plain": [
       "<Figure size 432x432 with 3 Axes>"
      ]
     },
     "metadata": {
      "needs_background": "light"
     },
     "output_type": "display_data"
    }
   ],
   "source": [
    "sns.jointplot(x='rate', y='Rating-Vote-Value', data=dataframe)"
   ]
  },
  {
   "cell_type": "markdown",
   "metadata": {},
   "source": [
    "# Does Costlier Means Better?\n",
    "The jointplot below tells us that the most highly rated restaurants(above 4.5 ratings) are not the costliest ones."
   ]
  },
  {
   "cell_type": "code",
   "execution_count": 204,
   "metadata": {},
   "outputs": [
    {
     "data": {
      "text/plain": [
       "<seaborn.axisgrid.JointGrid at 0x1b0bdc2048>"
      ]
     },
     "execution_count": 204,
     "metadata": {},
     "output_type": "execute_result"
    },
    {
     "data": {
      "image/png": "[encoded data removed]",
      "text/plain": [
       "<Figure size 432x432 with 3 Axes>"
      ]
     },
     "metadata": {
      "needs_background": "light"
     },
     "output_type": "display_data"
    }
   ],
   "source": [
    "sns.jointplot(x='rate', y='cost_for_two', data=dataframe)"
   ]
  },
  {
   "cell_type": "markdown",
   "metadata": {},
   "source": [
    "# Does cheaper means more popular?\n",
    "Here is a jointplot comparision which shows the city population is really cost conscious"
   ]
  },
  {
   "cell_type": "code",
   "execution_count": 205,
   "metadata": {},
   "outputs": [
    {
     "data": {
      "text/plain": [
       "<seaborn.axisgrid.JointGrid at 0x1b0b7824a8>"
      ]
     },
     "execution_count": 205,
     "metadata": {},
     "output_type": "execute_result"
    },
    {
     "data": {
      "image/png": "[encoded data removed]",
      "text/plain": [
       "<Figure size 432x432 with 3 Axes>"
      ]
     },
     "metadata": {
      "needs_background": "light"
     },
     "output_type": "display_data"
    }
   ],
   "source": [
    "sns.jointplot(x='cost_for_two', y='votes', data=dataframe)"
   ]
  },
  {
   "cell_type": "markdown",
   "metadata": {},
   "source": [
    "# Do the binary values online ordering tell us anything about the popularity?\n",
    "Seems like... NO"
   ]
  },
  {
   "cell_type": "code",
   "execution_count": 206,
   "metadata": {},
   "outputs": [
    {
     "data": {
      "text/plain": [
       "<seaborn.axisgrid.JointGrid at 0x1b0b6f18d0>"
      ]
     },
     "execution_count": 206,
     "metadata": {},
     "output_type": "execute_result"
    },
    {
     "data": {
      "image/png": "[encoded data removed]",
      "text/plain": [
       "<Figure size 432x432 with 3 Axes>"
      ]
     },
     "metadata": {
      "needs_background": "light"
     },
     "output_type": "display_data"
    }
   ],
   "source": [
    "from sklearn import preprocessing\n",
    "le = preprocessing.LabelEncoder()\n",
    "dataframe['online_order']=le.fit_transform(dataframe.online_order.values)\n",
    "sns.jointplot(x='online_order', y='votes', data=dataframe)"
   ]
  },
  {
   "cell_type": "code",
   "execution_count": 207,
   "metadata": {},
   "outputs": [
    {
     "data": {
      "text/plain": [
       "3.6158698308451194"
      ]
     },
     "execution_count": 207,
     "metadata": {},
     "output_type": "execute_result"
    }
   ],
   "source": [
    "dataframe[\"rate\"].mean()"
   ]
  },
  {
   "cell_type": "markdown",
   "metadata": {},
   "source": [
    "# Quality of our recommendation system\n",
    "We are not going to recommend restaurants which have below average rating (below 3.615)"
   ]
  },
  {
   "cell_type": "code",
   "execution_count": 220,
   "metadata": {},
   "outputs": [
    {
     "data": {
      "text/html": [
       "<div>\n",
       "<style scoped>\n",
       "    .dataframe tbody tr th:only-of-type {\n",
       "        vertical-align: middle;\n",
       "    }\n",
       "\n",
       "    .dataframe tbody tr th {\n",
       "        vertical-align: top;\n",
       "    }\n",
       "\n",
       "    .dataframe thead th {\n",
       "        text-align: right;\n",
       "    }\n",
       "</style>\n",
       "<table border=\"1\" class=\"dataframe\">\n",
       "  <thead>\n",
       "    <tr style=\"text-align: right;\">\n",
       "      <th></th>\n",
       "      <th>name</th>\n",
       "      <th>online_order</th>\n",
       "      <th>rate</th>\n",
       "      <th>votes</th>\n",
       "      <th>cuisines</th>\n",
       "      <th>cost_for_two</th>\n",
       "      <th>Rating-Vote-Value</th>\n",
       "    </tr>\n",
       "  </thead>\n",
       "  <tbody>\n",
       "    <tr>\n",
       "      <th>2214</th>\n",
       "      <td>Byg Brewski Brewing Company</td>\n",
       "      <td>1</td>\n",
       "      <td>4.900000</td>\n",
       "      <td>16588.500000</td>\n",
       "      <td>Continental, North Indian, Italian, South Indi...</td>\n",
       "      <td>1600.0</td>\n",
       "      <td>26541600</td>\n",
       "    </tr>\n",
       "    <tr>\n",
       "      <th>19331</th>\n",
       "      <td>SantÃÂÃÂÃÂÃÂÃÂÃÂÃÂÃÂÃÂÃÂÃ...</td>\n",
       "      <td>0</td>\n",
       "      <td>4.900000</td>\n",
       "      <td>246.000000</td>\n",
       "      <td>Healthy Food, Salad, Mediterranean</td>\n",
       "      <td>1000.0</td>\n",
       "      <td>246000</td>\n",
       "    </tr>\n",
       "    <tr>\n",
       "      <th>4767</th>\n",
       "      <td>Asia Kitchen By Mainland China</td>\n",
       "      <td>1</td>\n",
       "      <td>4.900000</td>\n",
       "      <td>2223.727273</td>\n",
       "      <td>Asian, Chinese, Thai, Momos</td>\n",
       "      <td>1500.0</td>\n",
       "      <td>3335590</td>\n",
       "    </tr>\n",
       "    <tr>\n",
       "      <th>4173</th>\n",
       "      <td>Punjab Grill</td>\n",
       "      <td>1</td>\n",
       "      <td>4.866667</td>\n",
       "      <td>1286.666667</td>\n",
       "      <td>North Indian</td>\n",
       "      <td>2000.0</td>\n",
       "      <td>2573333</td>\n",
       "    </tr>\n",
       "    <tr>\n",
       "      <th>2939</th>\n",
       "      <td>Belgian Waffle Factory</td>\n",
       "      <td>1</td>\n",
       "      <td>4.850000</td>\n",
       "      <td>890.785714</td>\n",
       "      <td>Desserts</td>\n",
       "      <td>400.0</td>\n",
       "      <td>356314</td>\n",
       "    </tr>\n",
       "  </tbody>\n",
       "</table>\n",
       "</div>"
      ],
      "text/plain": [
       "                                                    name  online_order  \\\n",
       "2214                         Byg Brewski Brewing Company             1   \n",
       "19331  SantÃÂÃÂÃÂÃÂÃÂÃÂÃÂÃÂÃÂÃÂÃ...             0   \n",
       "4767                      Asia Kitchen By Mainland China             1   \n",
       "4173                                        Punjab Grill             1   \n",
       "2939                              Belgian Waffle Factory             1   \n",
       "\n",
       "           rate         votes  \\\n",
       "2214   4.900000  16588.500000   \n",
       "19331  4.900000    246.000000   \n",
       "4767   4.900000   2223.727273   \n",
       "4173   4.866667   1286.666667   \n",
       "2939   4.850000    890.785714   \n",
       "\n",
       "                                                cuisines  cost_for_two  \\\n",
       "2214   Continental, North Indian, Italian, South Indi...        1600.0   \n",
       "19331                 Healthy Food, Salad, Mediterranean        1000.0   \n",
       "4767                         Asian, Chinese, Thai, Momos        1500.0   \n",
       "4173                                        North Indian        2000.0   \n",
       "2939                                            Desserts         400.0   \n",
       "\n",
       "       Rating-Vote-Value  \n",
       "2214            26541600  \n",
       "19331             246000  \n",
       "4767             3335590  \n",
       "4173             2573333  \n",
       "2939              356314  "
      ]
     },
     "execution_count": 220,
     "metadata": {},
     "output_type": "execute_result"
    }
   ],
   "source": [
    "recommendation_set = dataframe[dataframe['rate'] > 3.615] \n",
    "recommendation_set=recommendation_set.sort_values(['rate','votes','cost_for_two'], ascending=[False,False,True])\n",
    "recommendation_set=recommendation_set.drop_duplicates(subset='name', keep=\"first\")\n",
    "recommendation_set.head()"
   ]
  },
  {
   "cell_type": "markdown",
   "metadata": {},
   "source": [
    "# Top two cuisines offered by most restaurants\n",
    "    Make a census of the cuisines keywords"
   ]
  },
  {
   "cell_type": "code",
   "execution_count": 221,
   "metadata": {},
   "outputs": [
    {
     "data": {
      "text/plain": [
       "[[' Chinese', 796], ['North Indian', 744]]"
      ]
     },
     "execution_count": 221,
     "metadata": {},
     "output_type": "execute_result"
    }
   ],
   "source": [
    "c_labels = set()\n",
    "for s in recommendation_set['cuisines'].str.split(',').values:\n",
    "    c_labels = c_labels.union(set(s))\n",
    "\n",
    "\n",
    "def count_word(dataset, ref_col, census):\n",
    "    keyword_count = dict()\n",
    "    for s in census: \n",
    "        keyword_count[s] = 0\n",
    "    for census_keywords in dataset[ref_col].str.split(','):        \n",
    "        if type(census_keywords) == float and pd.isnull(census_keywords): \n",
    "            continue        \n",
    "        for s in [s for s in census_keywords if s in census]: \n",
    "            if pd.notnull(s): \n",
    "                keyword_count[s] += 1\n",
    "\n",
    "    keyword_occurences = []\n",
    "    for k,v in keyword_count.items():\n",
    "        keyword_occurences.append([k,v])\n",
    "    keyword_occurences.sort(key = lambda x:x[1], reverse = True)\n",
    "    return keyword_occurences, keyword_count\n",
    "\n",
    "# Calling this function gives access to a list of cuisine keywords which are sorted by decreasing frequency\n",
    "keyword_occurences, dum = count_word(recommendation_set, 'cuisines', c_labels)\n",
    "keyword_occurences[:2]"
   ]
  },
  {
   "cell_type": "markdown",
   "metadata": {},
   "source": [
    "# Converting 'cuisines' into a string array"
   ]
  },
  {
   "cell_type": "code",
   "execution_count": 222,
   "metadata": {},
   "outputs": [
    {
     "data": {
      "text/html": [
       "<div>\n",
       "<style scoped>\n",
       "    .dataframe tbody tr th:only-of-type {\n",
       "        vertical-align: middle;\n",
       "    }\n",
       "\n",
       "    .dataframe tbody tr th {\n",
       "        vertical-align: top;\n",
       "    }\n",
       "\n",
       "    .dataframe thead th {\n",
       "        text-align: right;\n",
       "    }\n",
       "</style>\n",
       "<table border=\"1\" class=\"dataframe\">\n",
       "  <thead>\n",
       "    <tr style=\"text-align: right;\">\n",
       "      <th></th>\n",
       "      <th>name</th>\n",
       "      <th>online_order</th>\n",
       "      <th>rate</th>\n",
       "      <th>votes</th>\n",
       "      <th>cuisines</th>\n",
       "      <th>cost_for_two</th>\n",
       "      <th>Rating-Vote-Value</th>\n",
       "    </tr>\n",
       "  </thead>\n",
       "  <tbody>\n",
       "    <tr>\n",
       "      <th>2214</th>\n",
       "      <td>Byg Brewski Brewing Company</td>\n",
       "      <td>1</td>\n",
       "      <td>4.9</td>\n",
       "      <td>16588.5</td>\n",
       "      <td>['Continental', ' North Indian', ' Italian', '...</td>\n",
       "      <td>1600.0</td>\n",
       "      <td>26541600</td>\n",
       "    </tr>\n",
       "    <tr>\n",
       "      <th>19331</th>\n",
       "      <td>SantÃÂÃÂÃÂÃÂÃÂÃÂÃÂÃÂÃÂÃÂÃ...</td>\n",
       "      <td>0</td>\n",
       "      <td>4.9</td>\n",
       "      <td>246.0</td>\n",
       "      <td>['Healthy Food', ' Salad', ' Mediterranean']</td>\n",
       "      <td>1000.0</td>\n",
       "      <td>246000</td>\n",
       "    </tr>\n",
       "  </tbody>\n",
       "</table>\n",
       "</div>"
      ],
      "text/plain": [
       "                                                    name  online_order  rate  \\\n",
       "2214                         Byg Brewski Brewing Company             1   4.9   \n",
       "19331  SantÃÂÃÂÃÂÃÂÃÂÃÂÃÂÃÂÃÂÃÂÃ...             0   4.9   \n",
       "\n",
       "         votes                                           cuisines  \\\n",
       "2214   16588.5  ['Continental', ' North Indian', ' Italian', '...   \n",
       "19331    246.0       ['Healthy Food', ' Salad', ' Mediterranean']   \n",
       "\n",
       "       cost_for_two  Rating-Vote-Value  \n",
       "2214         1600.0           26541600  \n",
       "19331        1000.0             246000  "
      ]
     },
     "execution_count": 222,
     "metadata": {},
     "output_type": "execute_result"
    }
   ],
   "source": [
    "recommendation_set['cuisines'] = recommendation_set['cuisines'].str.split(',')\n",
    "recommendation_set['cuisines'] = recommendation_set['cuisines'].fillna(\"\").astype('str')\n",
    "recommendation_set.head(2)"
   ]
  },
  {
   "cell_type": "code",
   "execution_count": 223,
   "metadata": {},
   "outputs": [
    {
     "data": {
      "text/html": [
       "<div>\n",
       "<style scoped>\n",
       "    .dataframe tbody tr th:only-of-type {\n",
       "        vertical-align: middle;\n",
       "    }\n",
       "\n",
       "    .dataframe tbody tr th {\n",
       "        vertical-align: top;\n",
       "    }\n",
       "\n",
       "    .dataframe thead th {\n",
       "        text-align: right;\n",
       "    }\n",
       "</style>\n",
       "<table border=\"1\" class=\"dataframe\">\n",
       "  <thead>\n",
       "    <tr style=\"text-align: right;\">\n",
       "      <th></th>\n",
       "      <th>name</th>\n",
       "      <th>online_order</th>\n",
       "      <th>rate</th>\n",
       "      <th>votes</th>\n",
       "      <th>cuisines</th>\n",
       "      <th>cost_for_two</th>\n",
       "      <th>Rating-Vote-Value</th>\n",
       "      <th>id</th>\n",
       "    </tr>\n",
       "  </thead>\n",
       "  <tbody>\n",
       "    <tr>\n",
       "      <th>2214</th>\n",
       "      <td>Byg Brewski Brewing Company</td>\n",
       "      <td>1</td>\n",
       "      <td>4.900000</td>\n",
       "      <td>16588.500000</td>\n",
       "      <td>['Continental', ' North Indian', ' Italian', '...</td>\n",
       "      <td>1600.0</td>\n",
       "      <td>26541600</td>\n",
       "      <td>0</td>\n",
       "    </tr>\n",
       "    <tr>\n",
       "      <th>19331</th>\n",
       "      <td>SantÃÂÃÂÃÂÃÂÃÂÃÂÃÂÃÂÃÂÃÂÃ...</td>\n",
       "      <td>0</td>\n",
       "      <td>4.900000</td>\n",
       "      <td>246.000000</td>\n",
       "      <td>['Healthy Food', ' Salad', ' Mediterranean']</td>\n",
       "      <td>1000.0</td>\n",
       "      <td>246000</td>\n",
       "      <td>1</td>\n",
       "    </tr>\n",
       "    <tr>\n",
       "      <th>4767</th>\n",
       "      <td>Asia Kitchen By Mainland China</td>\n",
       "      <td>1</td>\n",
       "      <td>4.900000</td>\n",
       "      <td>2223.727273</td>\n",
       "      <td>['Asian', ' Chinese', ' Thai', ' Momos']</td>\n",
       "      <td>1500.0</td>\n",
       "      <td>3335590</td>\n",
       "      <td>2</td>\n",
       "    </tr>\n",
       "    <tr>\n",
       "      <th>4173</th>\n",
       "      <td>Punjab Grill</td>\n",
       "      <td>1</td>\n",
       "      <td>4.866667</td>\n",
       "      <td>1286.666667</td>\n",
       "      <td>['North Indian']</td>\n",
       "      <td>2000.0</td>\n",
       "      <td>2573333</td>\n",
       "      <td>3</td>\n",
       "    </tr>\n",
       "    <tr>\n",
       "      <th>2939</th>\n",
       "      <td>Belgian Waffle Factory</td>\n",
       "      <td>1</td>\n",
       "      <td>4.850000</td>\n",
       "      <td>890.785714</td>\n",
       "      <td>['Desserts']</td>\n",
       "      <td>400.0</td>\n",
       "      <td>356314</td>\n",
       "      <td>4</td>\n",
       "    </tr>\n",
       "  </tbody>\n",
       "</table>\n",
       "</div>"
      ],
      "text/plain": [
       "                                                    name  online_order  \\\n",
       "2214                         Byg Brewski Brewing Company             1   \n",
       "19331  SantÃÂÃÂÃÂÃÂÃÂÃÂÃÂÃÂÃÂÃÂÃ...             0   \n",
       "4767                      Asia Kitchen By Mainland China             1   \n",
       "4173                                        Punjab Grill             1   \n",
       "2939                              Belgian Waffle Factory             1   \n",
       "\n",
       "           rate         votes  \\\n",
       "2214   4.900000  16588.500000   \n",
       "19331  4.900000    246.000000   \n",
       "4767   4.900000   2223.727273   \n",
       "4173   4.866667   1286.666667   \n",
       "2939   4.850000    890.785714   \n",
       "\n",
       "                                                cuisines  cost_for_two  \\\n",
       "2214   ['Continental', ' North Indian', ' Italian', '...        1600.0   \n",
       "19331       ['Healthy Food', ' Salad', ' Mediterranean']        1000.0   \n",
       "4767            ['Asian', ' Chinese', ' Thai', ' Momos']        1500.0   \n",
       "4173                                    ['North Indian']        2000.0   \n",
       "2939                                        ['Desserts']         400.0   \n",
       "\n",
       "       Rating-Vote-Value  id  \n",
       "2214            26541600   0  \n",
       "19331             246000   1  \n",
       "4767             3335590   2  \n",
       "4173             2573333   3  \n",
       "2939              356314   4  "
      ]
     },
     "execution_count": 223,
     "metadata": {},
     "output_type": "execute_result"
    }
   ],
   "source": [
    "recommendation_set.drop_duplicates(subset='name', keep=\"first\")\n",
    "recommendation_set['id']=pd.factorize(recommendation_set.index)[0]\n",
    "recommendation_set.head()"
   ]
  },
  {
   "cell_type": "code",
   "execution_count": 224,
   "metadata": {},
   "outputs": [],
   "source": [
    "recommendation_set.set_index(\"id\", inplace=True)"
   ]
  },
  {
   "cell_type": "markdown",
   "metadata": {},
   "source": [
    "# Tokenizing the cuisines with TF-IDF"
   ]
  },
  {
   "cell_type": "code",
   "execution_count": 225,
   "metadata": {},
   "outputs": [
    {
     "data": {
      "text/plain": [
       "(3241, 1005)"
      ]
     },
     "execution_count": 225,
     "metadata": {},
     "output_type": "execute_result"
    }
   ],
   "source": [
    "from sklearn.feature_extraction.text import TfidfVectorizer\n",
    "tf = TfidfVectorizer(analyzer='word',ngram_range=(1, 2),min_df=0, stop_words='english')\n",
    "tfidf_matrix = tf.fit_transform(recommendation_set['cuisines'])\n",
    "tfidf_matrix.shape"
   ]
  },
  {
   "cell_type": "markdown",
   "metadata": {},
   "source": [
    "# K-Means clustering"
   ]
  },
  {
   "cell_type": "code",
   "execution_count": 226,
   "metadata": {},
   "outputs": [
    {
     "data": {
      "text/plain": [
       "array([0, 0, 0, ..., 2, 0, 0], dtype=int32)"
      ]
     },
     "execution_count": 226,
     "metadata": {},
     "output_type": "execute_result"
    }
   ],
   "source": [
    "from sklearn.cluster import KMeans\n",
    "kmeans = KMeans(n_clusters=5, n_init=5)\n",
    "predict = kmeans.fit(tfidf_matrix)\n",
    "clustered_value = kmeans.fit_predict(tfidf_matrix)\n",
    "clustered_value"
   ]
  },
  {
   "cell_type": "code",
   "execution_count": 227,
   "metadata": {},
   "outputs": [
    {
     "data": {
      "text/html": [
       "<div>\n",
       "<style scoped>\n",
       "    .dataframe tbody tr th:only-of-type {\n",
       "        vertical-align: middle;\n",
       "    }\n",
       "\n",
       "    .dataframe tbody tr th {\n",
       "        vertical-align: top;\n",
       "    }\n",
       "\n",
       "    .dataframe thead th {\n",
       "        text-align: right;\n",
       "    }\n",
       "</style>\n",
       "<table border=\"1\" class=\"dataframe\">\n",
       "  <thead>\n",
       "    <tr style=\"text-align: right;\">\n",
       "      <th></th>\n",
       "      <th>clustered_value</th>\n",
       "      <th>rest_idx</th>\n",
       "    </tr>\n",
       "  </thead>\n",
       "  <tbody>\n",
       "    <tr>\n",
       "      <th>0</th>\n",
       "      <td>0</td>\n",
       "      <td>0</td>\n",
       "    </tr>\n",
       "    <tr>\n",
       "      <th>1</th>\n",
       "      <td>0</td>\n",
       "      <td>1</td>\n",
       "    </tr>\n",
       "    <tr>\n",
       "      <th>2</th>\n",
       "      <td>0</td>\n",
       "      <td>2</td>\n",
       "    </tr>\n",
       "    <tr>\n",
       "      <th>3</th>\n",
       "      <td>2</td>\n",
       "      <td>3</td>\n",
       "    </tr>\n",
       "    <tr>\n",
       "      <th>4</th>\n",
       "      <td>0</td>\n",
       "      <td>4</td>\n",
       "    </tr>\n",
       "  </tbody>\n",
       "</table>\n",
       "</div>"
      ],
      "text/plain": [
       "   clustered_value  rest_idx\n",
       "0                0         0\n",
       "1                0         1\n",
       "2                0         2\n",
       "3                2         3\n",
       "4                0         4"
      ]
     },
     "execution_count": 227,
     "metadata": {},
     "output_type": "execute_result"
    }
   ],
   "source": [
    "clusters_df = pd.DataFrame({'clustered_value':clustered_value, 'rest_idx':recommendation_set.index})\n",
    "clusters_df.head()"
   ]
  },
  {
   "cell_type": "markdown",
   "metadata": {},
   "source": [
    "# Cosine Implementation\n",
    "Cosine similarity is a metric used to measure how similar the documents are irrespective of their size. Mathematically, it measures the cosine of the angle between two vectors projected in a multi-dimensional space. The cosine similarity is advantageous because even if the two similar documents are far apart by the Euclidean distance (due to the size of the document), chances are they may still be oriented closer together. The smaller the angle, higher the cosine similarity.\n",
    "# In a nutshell\n",
    "In a nutshell we are finding the similarities between the restaurants. How can there be a similarity? Based on the cuisines offered by the restaurants. We find the distance between the restaurants. If the distance is less, then the restaurant is of similar type and can go for recommendation.\n",
    "\n",
    "# Inspiration\n",
    "Youtube is our inspiration behind this content based recommendation system of ours. Whenever you watch a video, videos with similar content are shown in the recommendation segment. \n",
    "\n",
    "# A quick note about linear_kernal\n",
    "Linear Kernel is used when the data is Linearly separable, that is, it can be separated using a single Line. It is one of the most common kernels to be used. It is mostly used in Text Classification"
   ]
  },
  {
   "cell_type": "code",
   "execution_count": 228,
   "metadata": {},
   "outputs": [
    {
     "data": {
      "text/plain": [
       "array([[1.        , 0.02612464, 0.        , 0.25087105],\n",
       "       [0.02612464, 1.        , 0.        , 0.        ],\n",
       "       [0.        , 0.        , 1.        , 0.        ],\n",
       "       [0.25087105, 0.        , 0.        , 1.        ]])"
      ]
     },
     "execution_count": 228,
     "metadata": {},
     "output_type": "execute_result"
    }
   ],
   "source": [
    "from sklearn.metrics.pairwise import linear_kernel\n",
    "cosine_sim = linear_kernel(tfidf_matrix, tfidf_matrix)\n",
    "cosine_sim[:4, :4]"
   ]
  },
  {
   "cell_type": "code",
   "execution_count": 229,
   "metadata": {},
   "outputs": [],
   "source": [
    "# Build a 1-dimensional array with cuisines\n",
    "names = recommendation_set['name']\n",
    "indices = pd.Series(recommendation_set.index, index=recommendation_set['name'])\n",
    "\n",
    "def rest_recommendations(name):\n",
    "    idx = indices[name]\n",
    "    sim_scores = list(enumerate(cosine_sim[idx]))\n",
    "    sim_scores = sorted(sim_scores, reverse=True)\n",
    "    #sim_scores = sim_scores[1:21]\n",
    "    rest_indices = [i[0] for i in sim_scores]\n",
    "    return names.iloc[rest_indices]"
   ]
  },
  {
   "cell_type": "code",
   "execution_count": 230,
   "metadata": {},
   "outputs": [
    {
     "data": {
      "text/html": [
       "<div>\n",
       "<style scoped>\n",
       "    .dataframe tbody tr th:only-of-type {\n",
       "        vertical-align: middle;\n",
       "    }\n",
       "\n",
       "    .dataframe tbody tr th {\n",
       "        vertical-align: top;\n",
       "    }\n",
       "\n",
       "    .dataframe thead th {\n",
       "        text-align: right;\n",
       "    }\n",
       "</style>\n",
       "<table border=\"1\" class=\"dataframe\">\n",
       "  <thead>\n",
       "    <tr style=\"text-align: right;\">\n",
       "      <th></th>\n",
       "      <th>name</th>\n",
       "      <th>online_order</th>\n",
       "      <th>rate</th>\n",
       "      <th>votes</th>\n",
       "      <th>cuisines</th>\n",
       "      <th>cost_for_two</th>\n",
       "      <th>Rating-Vote-Value</th>\n",
       "    </tr>\n",
       "    <tr>\n",
       "      <th>id</th>\n",
       "      <th></th>\n",
       "      <th></th>\n",
       "      <th></th>\n",
       "      <th></th>\n",
       "      <th></th>\n",
       "      <th></th>\n",
       "      <th></th>\n",
       "    </tr>\n",
       "  </thead>\n",
       "  <tbody>\n",
       "    <tr>\n",
       "      <th>0</th>\n",
       "      <td>Byg Brewski Brewing Company</td>\n",
       "      <td>1</td>\n",
       "      <td>4.900000</td>\n",
       "      <td>16588.500000</td>\n",
       "      <td>['Continental', ' North Indian', ' Italian', '...</td>\n",
       "      <td>1600.000000</td>\n",
       "      <td>26541600</td>\n",
       "    </tr>\n",
       "    <tr>\n",
       "      <th>1</th>\n",
       "      <td>SantÃÂÃÂÃÂÃÂÃÂÃÂÃÂÃÂÃÂÃÂÃ...</td>\n",
       "      <td>0</td>\n",
       "      <td>4.900000</td>\n",
       "      <td>246.000000</td>\n",
       "      <td>['Healthy Food', ' Salad', ' Mediterranean']</td>\n",
       "      <td>1000.000000</td>\n",
       "      <td>246000</td>\n",
       "    </tr>\n",
       "    <tr>\n",
       "      <th>2</th>\n",
       "      <td>Asia Kitchen By Mainland China</td>\n",
       "      <td>1</td>\n",
       "      <td>4.900000</td>\n",
       "      <td>2223.727273</td>\n",
       "      <td>['Asian', ' Chinese', ' Thai', ' Momos']</td>\n",
       "      <td>1500.000000</td>\n",
       "      <td>3335590</td>\n",
       "    </tr>\n",
       "    <tr>\n",
       "      <th>3</th>\n",
       "      <td>Punjab Grill</td>\n",
       "      <td>1</td>\n",
       "      <td>4.866667</td>\n",
       "      <td>1286.666667</td>\n",
       "      <td>['North Indian']</td>\n",
       "      <td>2000.000000</td>\n",
       "      <td>2573333</td>\n",
       "    </tr>\n",
       "    <tr>\n",
       "      <th>4</th>\n",
       "      <td>Belgian Waffle Factory</td>\n",
       "      <td>1</td>\n",
       "      <td>4.850000</td>\n",
       "      <td>890.785714</td>\n",
       "      <td>['Desserts']</td>\n",
       "      <td>400.000000</td>\n",
       "      <td>356314</td>\n",
       "    </tr>\n",
       "    <tr>\n",
       "      <th>5</th>\n",
       "      <td>Flechazo</td>\n",
       "      <td>0</td>\n",
       "      <td>4.833333</td>\n",
       "      <td>4301.000000</td>\n",
       "      <td>['Asian', ' Mediterranean', ' North Indian', '...</td>\n",
       "      <td>1400.000000</td>\n",
       "      <td>6021400</td>\n",
       "    </tr>\n",
       "    <tr>\n",
       "      <th>6</th>\n",
       "      <td>The Pizza Bakery</td>\n",
       "      <td>1</td>\n",
       "      <td>4.800000</td>\n",
       "      <td>1763.333333</td>\n",
       "      <td>['Italian', ' Pizza', ' Beverages']</td>\n",
       "      <td>1200.000000</td>\n",
       "      <td>2116000</td>\n",
       "    </tr>\n",
       "    <tr>\n",
       "      <th>7</th>\n",
       "      <td>O.G. Variar &amp; Sons</td>\n",
       "      <td>0</td>\n",
       "      <td>4.800000</td>\n",
       "      <td>1158.500000</td>\n",
       "      <td>['Bakery', ' Desserts']</td>\n",
       "      <td>200.000000</td>\n",
       "      <td>231700</td>\n",
       "    </tr>\n",
       "    <tr>\n",
       "      <th>8</th>\n",
       "      <td>AB's - Absolute Barbecues</td>\n",
       "      <td>0</td>\n",
       "      <td>4.790909</td>\n",
       "      <td>4069.250000</td>\n",
       "      <td>['European', ' Mediterranean', ' North Indian'...</td>\n",
       "      <td>1563.636364</td>\n",
       "      <td>6362827</td>\n",
       "    </tr>\n",
       "    <tr>\n",
       "      <th>9</th>\n",
       "      <td>Biergarten</td>\n",
       "      <td>0</td>\n",
       "      <td>4.766667</td>\n",
       "      <td>2639.111111</td>\n",
       "      <td>['Continental', ' European', ' BBQ', ' Chinese...</td>\n",
       "      <td>2200.000000</td>\n",
       "      <td>5806044</td>\n",
       "    </tr>\n",
       "  </tbody>\n",
       "</table>\n",
       "</div>"
      ],
      "text/plain": [
       "                                                 name  online_order      rate  \\\n",
       "id                                                                              \n",
       "0                         Byg Brewski Brewing Company             1  4.900000   \n",
       "1   SantÃÂÃÂÃÂÃÂÃÂÃÂÃÂÃÂÃÂÃÂÃ...             0  4.900000   \n",
       "2                      Asia Kitchen By Mainland China             1  4.900000   \n",
       "3                                        Punjab Grill             1  4.866667   \n",
       "4                              Belgian Waffle Factory             1  4.850000   \n",
       "5                                            Flechazo             0  4.833333   \n",
       "6                                    The Pizza Bakery             1  4.800000   \n",
       "7                                  O.G. Variar & Sons             0  4.800000   \n",
       "8                           AB's - Absolute Barbecues             0  4.790909   \n",
       "9                                          Biergarten             0  4.766667   \n",
       "\n",
       "           votes                                           cuisines  \\\n",
       "id                                                                    \n",
       "0   16588.500000  ['Continental', ' North Indian', ' Italian', '...   \n",
       "1     246.000000       ['Healthy Food', ' Salad', ' Mediterranean']   \n",
       "2    2223.727273           ['Asian', ' Chinese', ' Thai', ' Momos']   \n",
       "3    1286.666667                                   ['North Indian']   \n",
       "4     890.785714                                       ['Desserts']   \n",
       "5    4301.000000  ['Asian', ' Mediterranean', ' North Indian', '...   \n",
       "6    1763.333333                ['Italian', ' Pizza', ' Beverages']   \n",
       "7    1158.500000                            ['Bakery', ' Desserts']   \n",
       "8    4069.250000  ['European', ' Mediterranean', ' North Indian'...   \n",
       "9    2639.111111  ['Continental', ' European', ' BBQ', ' Chinese...   \n",
       "\n",
       "    cost_for_two  Rating-Vote-Value  \n",
       "id                                   \n",
       "0    1600.000000           26541600  \n",
       "1    1000.000000             246000  \n",
       "2    1500.000000            3335590  \n",
       "3    2000.000000            2573333  \n",
       "4     400.000000             356314  \n",
       "5    1400.000000            6021400  \n",
       "6    1200.000000            2116000  \n",
       "7     200.000000             231700  \n",
       "8    1563.636364            6362827  \n",
       "9    2200.000000            5806044  "
      ]
     },
     "execution_count": 230,
     "metadata": {},
     "output_type": "execute_result"
    }
   ],
   "source": [
    "recommendation_set.head(10)"
   ]
  },
  {
   "cell_type": "code",
   "execution_count": 231,
   "metadata": {},
   "outputs": [
    {
     "data": {
      "text/plain": [
       "id\n",
       "3240      Lassi Darbar\n",
       "3239    Karachi Bakery\n",
       "3238     Paratha Plaza\n",
       "3237          Calvin's\n",
       "Name: name, dtype: object"
      ]
     },
     "execution_count": 231,
     "metadata": {},
     "output_type": "execute_result"
    }
   ],
   "source": [
    "rest_recommendations('O.G. Variar & Sons').head(4)"
   ]
  },
  {
   "cell_type": "code",
   "execution_count": null,
   "metadata": {},
   "outputs": [],
   "source": []
  }
 ],
 "metadata": {
  "kernelspec": {
   "display_name": "Python 3",
   "language": "python",
   "name": "python3"
  },
  "language_info": {
   "codemirror_mode": {
    "name": "ipython",
    "version": 3
   },
   "file_extension": ".py",
   "mimetype": "text/x-python",
   "name": "python",
   "nbconvert_exporter": "python",
   "pygments_lexer": "ipython3",
   "version": "3.7.3"
  }
 },
 "nbformat": 4,
 "nbformat_minor": 2
}
